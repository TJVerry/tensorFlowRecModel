{
 "cells": [
  {
   "cell_type": "code",
   "execution_count": 1,
   "id": "cdc2a7a1",
   "metadata": {},
   "outputs": [
    {
     "name": "stderr",
     "output_type": "stream",
     "text": [
      "2025-04-28 14:11:11.997868: E external/local_xla/xla/stream_executor/cuda/cuda_fft.cc:467] Unable to register cuFFT factory: Attempting to register factory for plugin cuFFT when one has already been registered\n",
      "WARNING: All log messages before absl::InitializeLog() is called are written to STDERR\n",
      "E0000 00:00:1745863872.052492   11087 cuda_dnn.cc:8579] Unable to register cuDNN factory: Attempting to register factory for plugin cuDNN when one has already been registered\n",
      "E0000 00:00:1745863872.064825   11087 cuda_blas.cc:1407] Unable to register cuBLAS factory: Attempting to register factory for plugin cuBLAS when one has already been registered\n",
      "W0000 00:00:1745863872.096892   11087 computation_placer.cc:177] computation placer already registered. Please check linkage and avoid linking the same target more than once.\n",
      "W0000 00:00:1745863872.096925   11087 computation_placer.cc:177] computation placer already registered. Please check linkage and avoid linking the same target more than once.\n",
      "W0000 00:00:1745863872.096927   11087 computation_placer.cc:177] computation placer already registered. Please check linkage and avoid linking the same target more than once.\n",
      "W0000 00:00:1745863872.096929   11087 computation_placer.cc:177] computation placer already registered. Please check linkage and avoid linking the same target more than once.\n",
      "2025-04-28 14:11:12.107954: I tensorflow/core/platform/cpu_feature_guard.cc:210] This TensorFlow binary is optimized to use available CPU instructions in performance-critical operations.\n",
      "To enable the following instructions: AVX2 FMA, in other operations, rebuild TensorFlow with the appropriate compiler flags.\n"
     ]
    }
   ],
   "source": [
    "import os\n",
    "os.environ[\"TF_USE_LEGACY_KERAS\"] = \"1\"\n",
    "import pprint\n",
    "import tempfile\n",
    "\n",
    "from typing import Dict, Text\n",
    "\n",
    "import numpy as np\n",
    "import pandas as pd\n",
    "import tensorflow as tf\n",
    "import tensorflow_datasets as tfds\n",
    "import tensorflow_recommenders as tfrs"
   ]
  },
  {
   "cell_type": "markdown",
   "id": "75e58dac",
   "metadata": {},
   "source": [
    "## Data Transformation"
   ]
  },
  {
   "cell_type": "code",
   "execution_count": null,
   "id": "d4d4af9a",
   "metadata": {},
   "outputs": [
    {
     "name": "stdout",
     "output_type": "stream",
     "text": [
      "{'bucketized_user_age': TensorSpec(shape=(), dtype=tf.float32, name=None),\n",
      " 'movie_genres': TensorSpec(shape=(None,), dtype=tf.int64, name=None),\n",
      " 'movie_id': TensorSpec(shape=(), dtype=tf.string, name=None),\n",
      " 'movie_title': TensorSpec(shape=(), dtype=tf.string, name=None),\n",
      " 'raw_user_age': TensorSpec(shape=(), dtype=tf.float32, name=None),\n",
      " 'timestamp': TensorSpec(shape=(), dtype=tf.int64, name=None),\n",
      " 'user_gender': TensorSpec(shape=(), dtype=tf.bool, name=None),\n",
      " 'user_id': TensorSpec(shape=(), dtype=tf.string, name=None),\n",
      " 'user_occupation_label': TensorSpec(shape=(), dtype=tf.int64, name=None),\n",
      " 'user_occupation_text': TensorSpec(shape=(), dtype=tf.string, name=None),\n",
      " 'user_rating': TensorSpec(shape=(), dtype=tf.float32, name=None),\n",
      " 'user_zip_code': TensorSpec(shape=(), dtype=tf.string, name=None)}\n"
     ]
    }
   ],
   "source": [
    "# Import the Movielens dataset.\n",
    "ratings = tfds.load(\"movielens/100k-ratings\", split=\"train\")\n",
    "movies = tfds.load(\"movielens/100k-movies\", split=\"train\")\n",
    "\n",
    "# View the dataset columns.\n",
    "pprint.pprint(ratings.element_spec)"
   ]
  },
  {
   "cell_type": "code",
   "execution_count": 23,
   "id": "4a46dd01",
   "metadata": {},
   "outputs": [],
   "source": [
    "# Prepare the ratings dataset for processing\n",
    "ratings = ratings.map(lambda x: {\n",
    "    'user_id': x['user_id'],\n",
    "    'movie_id': x['movie_id'],\n",
    "    'user_rating': x['user_rating'],\n",
    "    'timestamp': x['timestamp'],\n",
    "    'movie_genres': x['movie_genres'],\n",
    "    'bucketized_user_age': x['bucketized_user_age'],\n",
    "    'user_occupation_label': x['user_occupation_label']\n",
    "})\n",
    "\n",
    "# Convert categorical features \n",
    "\n",
    "# Set up a large number of bins to reduce the chance of hash collisions.\n",
    "NUM_HASHING_BINS = 200_000\n",
    "\n",
    "movie_title_hashing = tf.keras.layers.Hashing(\n",
    "    num_bins=NUM_HASHING_BINS\n",
    ")\n",
    "\n",
    "# Conver to embedding\n",
    "movie_title_embedding = tf.keras.layers.Embedding(\n",
    "    # Let's use the explicit vocabulary lookup.\n",
    "    input_dim=NUM_HASHING_BINS,\n",
    "    output_dim=32\n",
    ")\n"
   ]
  },
  {
   "cell_type": "code",
   "execution_count": 25,
   "id": "983fc018",
   "metadata": {},
   "outputs": [],
   "source": [
    "movie_title_model = tf.keras.Sequential([movie_title_lookup, movie_title_embedding])"
   ]
  },
  {
   "cell_type": "code",
   "execution_count": 26,
   "id": "a8a982d4",
   "metadata": {},
   "outputs": [
    {
     "data": {
      "text/plain": [
       "<tf.Tensor: shape=(1, 32), dtype=float32, numpy=\n",
       "array([[ 0.03373393,  0.00759703,  0.04229622, -0.04404191,  0.03500244,\n",
       "        -0.02696208, -0.01288205,  0.00450683,  0.02644501,  0.02544909,\n",
       "         0.02573315,  0.02732192, -0.00416629, -0.03338205,  0.00879828,\n",
       "         0.04101123,  0.02224832,  0.04004196,  0.04615921,  0.04891871,\n",
       "         0.02474656, -0.04375819, -0.04963802, -0.00394917,  0.00650693,\n",
       "        -0.01145471,  0.03538618,  0.04382434, -0.02577845,  0.0140728 ,\n",
       "         0.01044954,  0.04170798]], dtype=float32)>"
      ]
     },
     "execution_count": 26,
     "metadata": {},
     "output_type": "execute_result"
    }
   ],
   "source": [
    "movie_title_model([\"Star Wars (1977)\"])"
   ]
  },
  {
   "cell_type": "code",
   "execution_count": null,
   "id": "97a0529b",
   "metadata": {},
   "outputs": [],
   "source": [
    "user_id_lookup = tf.keras.layers.StringLookup()\n",
    "user_id_lookup.adapt(ratings.map(lambda x: x[\"user_id\"]))\n",
    "\n",
    "user_id_embedding = tf.keras.layers.Embedding(user_id_lookup.vocabulary_size(), 32)\n",
    "\n",
    "user_id_model = tf.keras.Sequential([user_id_lookup, user_id_embedding])"
   ]
  },
  {
   "cell_type": "code",
   "execution_count": null,
   "id": "4ad37dac",
   "metadata": {},
   "outputs": [],
   "source": [
    "for x in ratings.take(3).as_numpy_iterator():\n",
    "  print(f\"Timestamp: {x['timestamp']}.\")"
   ]
  }
 ],
 "metadata": {
  "kernelspec": {
   "display_name": "llm",
   "language": "python",
   "name": "python3"
  },
  "language_info": {
   "codemirror_mode": {
    "name": "ipython",
    "version": 3
   },
   "file_extension": ".py",
   "mimetype": "text/x-python",
   "name": "python",
   "nbconvert_exporter": "python",
   "pygments_lexer": "ipython3",
   "version": "3.11.11"
  }
 },
 "nbformat": 4,
 "nbformat_minor": 5
}
